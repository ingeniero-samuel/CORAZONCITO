{
  "cells": [
    {
      "cell_type": "markdown",
      "metadata": {
        "id": "view-in-github",
        "colab_type": "text"
      },
      "source": [
        "<a href=\"https://colab.research.google.com/github/ingeniero-samuel/CORAZONCITO/blob/main/Te_damos_la_bienvenida_a_Colaboratory.ipynb\" target=\"_parent\"><img src=\"https://colab.research.google.com/assets/colab-badge.svg\" alt=\"Open In Colab\"/></a>"
      ]
    },
    {
      "cell_type": "code",
      "source": [
        "import numpy as np\n",
        "\n",
        "mis_juguetes = [1, 2, 3, 4, 5]\n",
        "juguetes_amigo = [6, 7, 8, 9, 10]\n",
        "\n",
        "bloques_mios = np.array(mis_juguetes)\n",
        "bloques_amigo = np.array(juguetes_amigo)\n",
        "\n",
        "total_bloques = bloques_mios + bloques_amigo\n",
        "print(total_bloques)\n"
      ],
      "metadata": {
        "id": "EwS0EXVJwM0q"
      },
      "execution_count": null,
      "outputs": []
    },
    {
      "cell_type": "code",
      "source": [
        "import numpy as np\n",
        "\n",
        "def calcular_el_promedio(num):\n",
        "  survey_responses = []\n",
        "  for i in range(num):\n",
        "    numero = int(input(\"ingrese el numero: \"))\n",
        "    survey_responses.append(numero)\n",
        "  survay_array = np.array(survey_responses)\n",
        "  print(np.mean(survay_array)) # esto hace que el promedio se calcule np.mean()#\n",
        "\n",
        "calcular_el_promedio(int(input(\"ingrese la cantidad de numeros que desee calcular su promedio: \")))\n"
      ],
      "metadata": {
        "id": "SxmKfVLmydUA"
      },
      "execution_count": null,
      "outputs": []
    },
    {
      "cell_type": "code",
      "source": [
        "import numpy as np\n",
        "\n",
        "def calcular_el_promedio(num):\n",
        "  survey_responses_one = []\n",
        "  survey_responses_two = []\n",
        "  survey_responses_three = []\n",
        "\n",
        "  for i in range(num):\n",
        "    numero = int(input(\"ingrese el estado de mejora del paciente 1: \"))\n",
        "    survey_responses_one.append(numero)\n",
        "  print(f\"la lista de como se siente el paciente 1: {survey_responses_one}\")\n",
        "  survay_array = np.array(survey_responses_one)\n",
        "  print(f\"el promedio en como se siente el paciente 1 es: {np.mean(survay_array)}\")\n",
        "\n",
        "  for i in range(num):\n",
        "    numero = int(input(\"ingrese el estado de mejora del paciente 2: \"))\n",
        "    survey_responses_two.append(numero)\n",
        "  print(f\"la lista de como se siente el paciente 2: {survey_responses_two}\")\n",
        "  survay_array = np.array(survey_responses_two)\n",
        "  print(f\"el promedio en como se siente el paciente 2 es: {np.mean(survay_array)}\")\n",
        "\n",
        "  for i in range(num):\n",
        "    numero = int(input(\"ingrese el estado de mejora del paciente 3: \"))\n",
        "    survey_responses_three.append(numero)\n",
        "  print(f\"la lista de como se siente el paciente 3: {survey_responses_three}\")\n",
        "  survay_array = np.array(survey_responses_three)\n",
        "  print(f\"el promedio en como se siente el paciente 3 es: {np.mean(survay_array)}\")\n",
        "\n",
        "  promedio_universal = np.array((survey_responses_one,survey_responses_two,survey_responses_three))\n",
        "  print(f\"el promedio universal de los 3 pacientes es de: {np.mean(survay_array)}\")\n",
        "\n",
        "\n",
        "calcular_el_promedio(5)"
      ],
      "metadata": {
        "id": "X1ETbCy81BLB"
      },
      "execution_count": null,
      "outputs": []
    },
    {
      "cell_type": "code",
      "source": [
        "# ejerciso de chococrispy\n",
        "\n",
        "import numpy as np\n",
        "\n",
        "chococrispy = 60 #calorias\n",
        "\n",
        "calorie_stats = [70, 120, 70, 50, 110 , 110, 110, 130, 90, 90, 120, 110,\n",
        "120, 110, 110, 110, 100, 110, 110, 110, 100, 110, 100,\n",
        "100, 110, 110, 100, 120, 120, 110, 100, 110, 100, 110,\n",
        "120, 120, 110, 110, 110, 140, 110, 100, 110, 100, 150,\n",
        "150, 160, 100, 120, 140, 90, 130, 120, 100, 50, 50,\n",
        "100, 100, 120, 100, 90, 110, 110, 80, 90, 90, 110, 110,\n",
        "90, 110, 140, 100, 110, 110, 100, 100, 110]\n",
        "\n",
        "# calculando el promedio o media\n",
        "calories = np.array(calorie_stats)\n",
        "average_calories = np.mean(calories)\n",
        "print(f\"el promedio de las calorias de otras marcas por porcion es de: {average_calories} cal\")\n",
        "# calculando la diferencia\n",
        "average_calories = average_calories - chococrispy\n",
        "print(f\"lo que quiere decir que son {average_calories} cal mas altas que nuestra marca\")\n",
        "\n",
        "# mostrando la lista organizada\n",
        "\n",
        "calorie_stats.sort()\n",
        "average_calories = calorie_stats\n",
        "print(\"a si son los datos organizados\")\n",
        "print(average_calories)\n",
        "\n",
        "# calculando la mediana\n",
        "\n",
        "median_calories = np.median(calorie_stats)\n",
        "print(f\"la media de las calorias de otras marcas es: {median_calories}\")\n",
        "# comparamos\n",
        "average_calories = np.mean(calories)\n",
        "print(f\"comparamos su mediana {median_calories} con su media {average_calories}\")\n",
        "\n",
        "#calculo de percentiles\n",
        "calorie_array = np.array(calorie_stats)\n",
        "percentile = 0 #percentil incial\n",
        "\n",
        "# Iteramos para encontrar el percentil más bajo mayor a 60 calorías\n",
        "for i in range(1, 101):\n",
        "    percentile_value = np.percentile(calorie_array, i)\n",
        "    if percentile_value > 60:\n",
        "        nth_percentile = percentile_value\n",
        "        break\n",
        "print(\"El primer percentil mayor a 60 calorías es:\", nth_percentile)\n",
        "\n",
        "# los cereales que tienes mas de 60 calorias en porcentaje\n",
        "\n",
        "more_than_60 = np.sum(calorie_array > 60)\n",
        "total_cereales = len(calorie_array)\n",
        "more_calories = (more_than_60 / total_cereales) * 100\n",
        "\n",
        "print(\"El porcentaje de cereales que tienen más de 60 calorías por porción es:\", more_calories)\n",
        "\n",
        "#calculando la desviacion estandar\n",
        "calorie_std = np.std(calorie_array)\n",
        "print(\"La desviación estándar de las calorías es:\", calorie_std, \" con este dato se puede ver que las cantidades de calorias entre marca pueden variar demasiado \")\n",
        "\n",
        "\n",
        "\n",
        "\n",
        "\n",
        "\n"
      ],
      "metadata": {
        "colab": {
          "base_uri": "https://localhost:8080/"
        },
        "id": "WwSMFiku6K9_",
        "outputId": "929da898-57cb-4b64-a8fd-ebf792df3e5f"
      },
      "execution_count": 42,
      "outputs": [
        {
          "output_type": "stream",
          "name": "stdout",
          "text": [
            "el promedio de las calorias de otras marcas por porcion es de: 106.88311688311688 cal\n",
            "lo que quiere decir que son 46.883116883116884 cal mas altas que nuestra marca\n",
            "a si son los datos organizados\n",
            "[50, 50, 50, 70, 70, 80, 90, 90, 90, 90, 90, 90, 90, 100, 100, 100, 100, 100, 100, 100, 100, 100, 100, 100, 100, 100, 100, 100, 100, 100, 110, 110, 110, 110, 110, 110, 110, 110, 110, 110, 110, 110, 110, 110, 110, 110, 110, 110, 110, 110, 110, 110, 110, 110, 110, 110, 110, 110, 110, 120, 120, 120, 120, 120, 120, 120, 120, 120, 120, 130, 130, 140, 140, 140, 150, 150, 160]\n",
            "la media de las calorias de otras marcas es: 110.0\n",
            "comparamos su mediana 110.0 con su media 106.88311688311688\n",
            "El primer percentil mayor a 60 calorías es: 70.0\n",
            "El porcentaje de cereales que tienen más de 60 calorías por porción es: 96.1038961038961\n",
            "La desviación estándar de las calorías es: 19.35718533390827  con este dato se puede ver que las cantidades de calorias entre marca pueden variar demasiado \n"
          ]
        }
      ]
    }
  ],
  "metadata": {
    "colab": {
      "name": "Te damos la bienvenida a Colaboratory",
      "provenance": [],
      "include_colab_link": true
    },
    "kernelspec": {
      "display_name": "Python 3",
      "name": "python3"
    }
  },
  "nbformat": 4,
  "nbformat_minor": 0
}