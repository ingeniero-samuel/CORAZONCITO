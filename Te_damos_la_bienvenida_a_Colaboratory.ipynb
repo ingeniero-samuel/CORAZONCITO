{
  "cells": [
    {
      "cell_type": "markdown",
      "metadata": {
        "id": "view-in-github",
        "colab_type": "text"
      },
      "source": [
        "<a href=\"https://colab.research.google.com/github/ingeniero-samuel/CORAZONCITO/blob/main/Te_damos_la_bienvenida_a_Colaboratory.ipynb\" target=\"_parent\"><img src=\"https://colab.research.google.com/assets/colab-badge.svg\" alt=\"Open In Colab\"/></a>"
      ]
    },
    {
      "cell_type": "code",
      "source": [
        "import numpy as np\n",
        "\n",
        "mis_juguetes = [1, 2, 3, 4, 5]\n",
        "juguetes_amigo = [6, 7, 8, 9, 10]\n",
        "\n",
        "bloques_mios = np.array(mis_juguetes)\n",
        "bloques_amigo = np.array(juguetes_amigo)\n",
        "\n",
        "total_bloques = bloques_mios + bloques_amigo\n",
        "print(total_bloques)\n"
      ],
      "metadata": {
        "id": "EwS0EXVJwM0q"
      },
      "execution_count": null,
      "outputs": []
    },
    {
      "cell_type": "code",
      "source": [
        "import numpy as np\n",
        "\n",
        "def calcular_el_promedio(num):\n",
        "  survey_responses = []\n",
        "  for i in range(num):\n",
        "    numero = int(input(\"ingrese el numero: \"))\n",
        "    survey_responses.append(numero)\n",
        "  survay_array = np.array(survey_responses)\n",
        "  print(np.mean(survay_array))\n",
        "\n",
        "calcular_el_promedio(int(input(\"ingrese la cantidad de numeros que desee calcular su promedio: \")))\n"
      ],
      "metadata": {
        "id": "SxmKfVLmydUA",
        "outputId": "dca12334-d0e6-4f57-a67b-3fc19b09b7f9",
        "colab": {
          "base_uri": "https://localhost:8080/"
        }
      },
      "execution_count": 12,
      "outputs": [
        {
          "output_type": "stream",
          "name": "stdout",
          "text": [
            "ingrese la cantidad de numeros que desee calcular su promedio: 3\n",
            "ingrese el numero: 3\n",
            "ingrese el numero: 3\n",
            "ingrese el numero: 3\n",
            "3.0\n"
          ]
        }
      ]
    }
  ],
  "metadata": {
    "colab": {
      "name": "Te damos la bienvenida a Colaboratory",
      "provenance": [],
      "include_colab_link": true
    },
    "kernelspec": {
      "display_name": "Python 3",
      "name": "python3"
    }
  },
  "nbformat": 4,
  "nbformat_minor": 0
}