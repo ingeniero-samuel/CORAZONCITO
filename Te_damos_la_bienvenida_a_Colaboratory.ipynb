{
  "cells": [
    {
      "cell_type": "markdown",
      "metadata": {
        "id": "view-in-github",
        "colab_type": "text"
      },
      "source": [
        "<a href=\"https://colab.research.google.com/github/ingeniero-samuel/CORAZONCITO/blob/main/Te_damos_la_bienvenida_a_Colaboratory.ipynb\" target=\"_parent\"><img src=\"https://colab.research.google.com/assets/colab-badge.svg\" alt=\"Open In Colab\"/></a>"
      ]
    },
    {
      "cell_type": "code",
      "source": [
        "import numpy as np\n",
        "\n",
        "mis_juguetes = [1, 2, 3, 4, 5]\n",
        "juguetes_amigo = [6, 7, 8, 9, 10]\n",
        "\n",
        "bloques_mios = np.array(mis_juguetes)\n",
        "bloques_amigo = np.array(juguetes_amigo)\n",
        "\n",
        "total_bloques = bloques_mios + bloques_amigo\n",
        "print(total_bloques)\n"
      ],
      "metadata": {
        "id": "EwS0EXVJwM0q"
      },
      "execution_count": null,
      "outputs": []
    },
    {
      "cell_type": "code",
      "source": [
        "import numpy as np\n",
        "\n",
        "def calcular_el_promedio(num):\n",
        "  survey_responses = []\n",
        "  for i in range(num):\n",
        "    numero = int(input(\"ingrese el numero: \"))\n",
        "    survey_responses.append(numero)\n",
        "  survay_array = np.array(survey_responses)\n",
        "  print(np.mean(survay_array))\n",
        "\n",
        "calcular_el_promedio(int(input(\"ingrese la cantidad de numeros que desee calcular su promedio: \")))\n"
      ],
      "metadata": {
        "id": "SxmKfVLmydUA"
      },
      "execution_count": null,
      "outputs": []
    },
    {
      "cell_type": "code",
      "source": [
        "import numpy as np\n",
        "\n",
        "def calcular_el_promedio(num):\n",
        "  survey_responses_one = []\n",
        "  survey_responses_two = []\n",
        "  survey_responses_three = []\n",
        "\n",
        "  for i in range(num):\n",
        "    numero = int(input(\"ingrese el estado de mejora del paciente 1: \"))\n",
        "    survey_responses_one.append(numero)\n",
        "  print(f\"la lista de como se siente el paciente 1: {survey_responses_one}\")\n",
        "  survay_array = np.array(survey_responses_one)\n",
        "  print(f\"el promedio en como se siente el paciente 1 es: {np.mean(survay_array)}\")\n",
        "\n",
        "  for i in range(num):\n",
        "    numero = int(input(\"ingrese el estado de mejora del paciente 2: \"))\n",
        "    survey_responses_two.append(numero)\n",
        "  print(f\"la lista de como se siente el paciente 2: {survey_responses_two}\")\n",
        "  survay_array = np.array(survey_responses_two)\n",
        "  print(f\"el promedio en como se siente el paciente 2 es: {np.mean(survay_array)}\")\n",
        "\n",
        "  for i in range(num):\n",
        "    numero = int(input(\"ingrese el estado de mejora del paciente 3: \"))\n",
        "    survey_responses_three.append(numero)\n",
        "  print(f\"la lista de como se siente el paciente 3: {survey_responses_three}\")\n",
        "  survay_array = np.array(survey_responses_three)\n",
        "  print(f\"el promedio en como se siente el paciente 3 es: {np.mean(survay_array)}\")\n",
        "\n",
        "  promedio_universal = np.array((survey_responses_one,survey_responses_two,survey_responses_three))\n",
        "  print(f\"el promedio universal de los 3 pacientes es de: {np.mean(survay_array)}\")\n",
        "\n",
        "\n",
        "calcular_el_promedio(5)"
      ],
      "metadata": {
        "id": "X1ETbCy81BLB"
      },
      "execution_count": null,
      "outputs": []
    },
    {
      "cell_type": "code",
      "source": [],
      "metadata": {
        "id": "WwSMFiku6K9_"
      },
      "execution_count": null,
      "outputs": []
    }
  ],
  "metadata": {
    "colab": {
      "name": "Te damos la bienvenida a Colaboratory",
      "provenance": [],
      "include_colab_link": true
    },
    "kernelspec": {
      "display_name": "Python 3",
      "name": "python3"
    }
  },
  "nbformat": 4,
  "nbformat_minor": 0
}